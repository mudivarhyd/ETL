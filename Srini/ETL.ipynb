{
 "cells": [
  {
   "cell_type": "code",
   "execution_count": 1,
   "metadata": {},
   "outputs": [],
   "source": [
    "# Dependencies and setup of modules for ETL Project\n",
    "import pandas as pd\n",
    "import numpy as np\n",
    "import unidecode\n",
    "from sqlalchemy import create_engine"
   ]
  },
  {
   "cell_type": "markdown",
   "metadata": {},
   "source": [
    "# Extract CSV files into DataFrames"
   ]
  },
  {
   "cell_type": "code",
   "execution_count": 2,
   "metadata": {},
   "outputs": [
    {
     "name": "stderr",
     "output_type": "stream",
     "text": [
      "/anaconda3/envs/PythonData/lib/python3.7/site-packages/IPython/core/interactiveshell.py:3020: DtypeWarning: Columns (61,62) have mixed types. Specify dtype option on import or set low_memory=False.\n",
      "  interactivity=interactivity, compiler=compiler, result=result)\n"
     ]
    }
   ],
   "source": [
    "# DC airbnb file\n",
    "dc_airbnb_file = \"Data/DC_airbnb_listings.csv\"\n",
    "# DC hotel file\n",
    "dc_hotel_file = \"Data/DC_Hotels.csv\"\n",
    "# DC airbnb dataframe\n",
    "dc_airbnb_df = pd.read_csv(dc_airbnb_file, index_col=\"id\", encoding=\"utf-8\")\n",
    "# DC hotel dataframe\n",
    "dc_hotel_df = pd.read_csv(dc_hotel_file, index_col=\"objectid\", encoding=\"utf-8\")\n",
    "#dc_airbnb_df.head()\n",
    "#dc_hotel_df.head()"
   ]
  },
  {
   "cell_type": "code",
   "execution_count": 3,
   "metadata": {},
   "outputs": [
    {
     "data": {
      "text/plain": [
       "Index(['listing_url', 'scrape_id', 'last_scraped', 'name', 'summary', 'space',\n",
       "       'description', 'experiences_offered', 'neighborhood_overview', 'notes',\n",
       "       ...\n",
       "       'instant_bookable', 'is_business_travel_ready', 'cancellation_policy',\n",
       "       'require_guest_profile_picture', 'require_guest_phone_verification',\n",
       "       'calculated_host_listings_count',\n",
       "       'calculated_host_listings_count_entire_homes',\n",
       "       'calculated_host_listings_count_private_rooms',\n",
       "       'calculated_host_listings_count_shared_rooms', 'reviews_per_month'],\n",
       "      dtype='object', length=105)"
      ]
     },
     "execution_count": 3,
     "metadata": {},
     "output_type": "execute_result"
    }
   ],
   "source": [
    "# DC airbnb columns\n",
    "dc_airbnb_df.columns\n",
    "#dc_hotel_df.columns"
   ]
  },
  {
   "cell_type": "markdown",
   "metadata": {},
   "source": [
    "# DC Airbnb data analysis and cleanup"
   ]
  },
  {
   "cell_type": "code",
   "execution_count": 4,
   "metadata": {},
   "outputs": [],
   "source": [
    "#dc_airbnb_cols = [\"name\", \"summary\", \"transit\", \"access\", \"host_name\", \"host_location\", \"host_neighbourhood\", \"street\", \"city\", \"state\", \"zipcode\", \"market\", \"smart_location\", \"country_code\", \"country\", \"latitude\", \"longitude\", \"property_type\", \"room_type\"]"
   ]
  },
  {
   "cell_type": "code",
   "execution_count": 5,
   "metadata": {},
   "outputs": [
    {
     "name": "stdout",
     "output_type": "stream",
     "text": [
      "<class 'pandas.core.frame.DataFrame'>\n",
      "Int64Index: 9001 entries, 3362 to 32284361\n",
      "Data columns (total 13 columns):\n",
      "host_neighbourhood    7954 non-null object\n",
      "street                9001 non-null object\n",
      "city                  8998 non-null object\n",
      "state                 8989 non-null object\n",
      "zipcode               8839 non-null object\n",
      "market                8976 non-null object\n",
      "smart_location        9001 non-null object\n",
      "country_code          9001 non-null object\n",
      "country               9001 non-null object\n",
      "latitude              9001 non-null float64\n",
      "longitude             9001 non-null float64\n",
      "property_type         9001 non-null object\n",
      "room_type             9001 non-null object\n",
      "dtypes: float64(2), object(11)\n",
      "memory usage: 984.5+ KB\n"
     ]
    }
   ],
   "source": [
    "dc_airbnb_df = dc_airbnb_df[[\"name\",\"summary\", \"transit\", \"access\", \"host_name\", \"host_location\",\\\n",
    "                             \"host_neighbourhood\", \"street\", \"city\", \"state\", \"zipcode\", \"market\",\\\n",
    "                             \"smart_location\", \"country_code\", \"country\", \"latitude\", \"longitude\", \\\n",
    "                             \"property_type\", \"room_type\"]]\n",
    "# Since columns summary, transit, access, name, host_name, host_location had bad data and not required,hence dropped\n",
    "# new clean dataframe created\n",
    "dc_airbnb_df_clean = dc_airbnb_df.drop(columns=['summary','transit','access','name','host_name','host_location'])\n",
    "dc_airbnb_df_clean.info()"
   ]
  },
  {
   "cell_type": "code",
   "execution_count": 6,
   "metadata": {},
   "outputs": [
    {
     "name": "stdout",
     "output_type": "stream",
     "text": [
      "<class 'pandas.core.frame.DataFrame'>\n",
      "Int64Index: 8839 entries, 3362 to 32284361\n",
      "Data columns (total 13 columns):\n",
      "host_neighbourhood    7866 non-null object\n",
      "street                8839 non-null object\n",
      "city                  8838 non-null object\n",
      "state                 8830 non-null object\n",
      "zipcode               8839 non-null object\n",
      "market                8814 non-null object\n",
      "smart_location        8839 non-null object\n",
      "country_code          8839 non-null object\n",
      "country               8839 non-null object\n",
      "latitude              8839 non-null float64\n",
      "longitude             8839 non-null float64\n",
      "property_type         8839 non-null object\n",
      "room_type             8839 non-null object\n",
      "dtypes: float64(2), object(11)\n",
      "memory usage: 966.8+ KB\n"
     ]
    }
   ],
   "source": [
    "# Zip code is the key to join dc airbnb and dc hotels, there are few Nan data, hence are cleaned up\n",
    "dc_airbnb_df_clean = dc_airbnb_df_clean.dropna(subset=['zipcode'])\n",
    "dc_airbnb_df_clean.info()\n",
    "#dc_airbnb_df_clean.head()"
   ]
  },
  {
   "cell_type": "markdown",
   "metadata": {},
   "source": [
    "# DC Hotel data analysis and clean up"
   ]
  },
  {
   "cell_type": "code",
   "execution_count": 7,
   "metadata": {},
   "outputs": [
    {
     "name": "stdout",
     "output_type": "stream",
     "text": [
      "<class 'pandas.core.frame.DataFrame'>\n",
      "Int64Index: 169 entries, 1 to 100\n",
      "Data columns (total 10 columns):\n",
      "web_url     167 non-null object\n",
      "phone       169 non-null object\n",
      "zip         169 non-null int64\n",
      "gis_id      132 non-null object\n",
      "address     169 non-null object\n",
      "numrooms    141 non-null float64\n",
      "name        168 non-null object\n",
      "x           169 non-null float64\n",
      "y           169 non-null float64\n",
      "addrid      169 non-null int64\n",
      "dtypes: float64(3), int64(2), object(5)\n",
      "memory usage: 14.5+ KB\n"
     ]
    }
   ],
   "source": [
    "# DC hotel data information, zip code data is important so it can be joined to the dc airbnb data.\n",
    "# There are no null values in the data, no clean up required. Other columns are added to table and set default values\n",
    "dc_hotel_df.info()\n",
    "#dc_hotel_df.head()"
   ]
  },
  {
   "cell_type": "markdown",
   "metadata": {},
   "source": [
    "# Create Database Connection"
   ]
  },
  {
   "cell_type": "code",
   "execution_count": 8,
   "metadata": {},
   "outputs": [
    {
     "data": {
      "text/plain": [
       "['dc_airbnb', 'dc_hotels']"
      ]
     },
     "execution_count": 8,
     "metadata": {},
     "output_type": "execute_result"
    }
   ],
   "source": [
    "# Set connection to MySql data base and invoke engine\n",
    "connection_string = \"root:Srini@786@localhost/etl\"\n",
    "engine = create_engine(f'mysql+pymysql://{connection_string}')\n",
    "# Find what tables exist as they were created before\n",
    "engine.table_names()"
   ]
  },
  {
   "cell_type": "markdown",
   "metadata": {},
   "source": [
    "# Load DataFrame DC Airbnb data into Database table"
   ]
  },
  {
   "cell_type": "code",
   "execution_count": 9,
   "metadata": {},
   "outputs": [],
   "source": [
    "# Load dataframe dc airbnb in to etl database and table dc_airbnb\n",
    "dc_airbnb_df_clean.to_sql(name='dc_airbnb', con=engine, if_exists='append', index=True)"
   ]
  },
  {
   "cell_type": "markdown",
   "metadata": {},
   "source": [
    "# Load DataFrame DC Hotel data into Database table"
   ]
  },
  {
   "cell_type": "code",
   "execution_count": 11,
   "metadata": {},
   "outputs": [],
   "source": [
    "# Load dataframe dc airbnb in to etl database and table dc_airbnb\n",
    "dc_hotel_df.to_sql(name='dc_hotels', con=engine, if_exists='append', index=True)"
   ]
  },
  {
   "cell_type": "code",
   "execution_count": null,
   "metadata": {},
   "outputs": [],
   "source": []
  }
 ],
 "metadata": {
  "kernelspec": {
   "display_name": "Python (PythonData)",
   "language": "python",
   "name": "pythondata"
  },
  "language_info": {
   "codemirror_mode": {
    "name": "ipython",
    "version": 3
   },
   "file_extension": ".py",
   "mimetype": "text/x-python",
   "name": "python",
   "nbconvert_exporter": "python",
   "pygments_lexer": "ipython3",
   "version": "3.7.1"
  }
 },
 "nbformat": 4,
 "nbformat_minor": 2
}
